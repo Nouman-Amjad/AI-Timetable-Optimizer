{
 "cells": [
  {
   "cell_type": "markdown",
   "metadata": {},
   "source": [
    "<h1 align = \"center\"> ARTIFICIAL INTELLIGENCE COURSE PROJECT </h1>\n",
    "<h2 align = \"center\"> Timetable Scheduling Problem </h2>\n"
   ]
  },
  {
   "cell_type": "markdown",
   "metadata": {},
   "source": [
    "## Muhammad Nouman Amjad"
   ]
  },
  {
   "cell_type": "markdown",
   "metadata": {},
   "source": [
    "### Including libaries, declaring necessary variables & basic functions"
   ]
  },
  {
   "cell_type": "code",
   "execution_count": 1,
   "metadata": {
    "execution": {
     "iopub.execute_input": "2024-05-12T13:17:27.449937Z",
     "iopub.status.busy": "2024-05-12T13:17:27.449560Z",
     "iopub.status.idle": "2024-05-12T13:17:27.498040Z",
     "shell.execute_reply": "2024-05-12T13:17:27.496995Z",
     "shell.execute_reply.started": "2024-05-12T13:17:27.449907Z"
    },
    "trusted": true
   },
   "outputs": [],
   "source": [
    "import random\n",
    "import numpy as np\n",
    "import math\n",
    "\n",
    "COURSE_NAMES = [\"PF\",\"IICT\",\"DB\",\"OS\",\"ML\",\"AI\",\"WEB\",\"Algo\",\"PROB\",\"CALCULAS\",\"TBW\",\"PAKSTD\"]\n",
    "LAB_NAMES = [\"PF\",\"IICT\",\"DB\",\"OS\",\"AI\"]\n",
    "SECTIONS = ['A','B','C','D','E']\n",
    "PROFESSORS_NAMES = [\"Dr. Kashif Munir\", \"Ms. Maira Hashmi\",\"Mr. Saad Salman\",\"Dr. M Ali\",\"Mr. Ahmed Hassan\",\"Mr. Usman\",\"Mr. Bilal Dar\",\"Dr. Amir Hussain\",\"Dr. Imran Ashraf\",\"Dr. Ahmed Raza\",\"Mr. Hassan Ali\",\"Dr. Fahad Ahmed\"]\n",
    "ROOMS_NAMES = [\"C-301\",\"C-302\",\"C-303\",\"C-304\",\"C-401\",\"C-402\",\"C-403\",\"C-404\"]\n",
    "DAYS = [\"Monday\", \"Tuesday\", \"Wednesday\", \"Thursday\", \"Friday\"]\n",
    "TIMESLOTS = [\"8:30-9:50\", \"10:00-11:20\", \"11:30-12:50\", \"1:00-2:20\", \"2:30-3:50\",\"4:00-5:15\"]\n",
    "ROOM_SIZE = [\"Classroom\",\"Hall\"]\n",
    "NUM_SEMESTERS = 3\n",
    "NUM_DAYS = len(DAYS)\n",
    "NUM_TIMESLOTS = len(TIMESLOTS)\n",
    "NUM_ROOMS = len(ROOMS_NAMES)\n",
    "NUM_PROFESSORS = len(PROFESSORS_NAMES)\n",
    "NUM_SECTIONS = len(SECTIONS)\n",
    "NUM_COURSES = len(COURSE_NAMES)\n",
    "NUM_LABS = len(LAB_NAMES)\n",
    "NUM_ROOM_SIZE = len(ROOM_SIZE)\n",
    "NUM_COUSRES_PER_SEMESTER = NUM_COURSES/NUM_SEMESTERS\n",
    "\n",
    "decodeIndex = [NUM_COURSES,1 ,NUM_SECTIONS, 120 ,NUM_PROFESSORS, NUM_DAYS, NUM_TIMESLOTS, NUM_ROOMS, 1,NUM_DAYS, NUM_TIMESLOTS, NUM_ROOMS, 1]\n",
    "decodeIndex = [math.ceil(math.sqrt(number)) for number in decodeIndex]\n",
    "# [4, 1, 3, 11, 4, 3, 3, 3, 1, 3, 3, 3, 1] \n",
    "\n",
    "csum = 0\n",
    "newlist = []\n",
    "for num in decodeIndex:\n",
    "    csum += num\n",
    "    newlist.append(csum)\n",
    "    \n",
    "cumuDecodeIndex = newlist\n",
    "#[4, 5, 8, 19, 23, 26, 29, 32, 33, 36, 39, 42, 43]\n",
    "\n",
    "def genNum(u,l):\n",
    "    return random.randint(u, l)\n",
    "\n",
    "def encode(number,length):\n",
    "    num = bin(number)[2:] # [2:] removes the '0b' prefix\n",
    "    num = num.zfill(length)\n",
    "    return num\n",
    "\n",
    "def decode(number):\n",
    "    return int(str(number), 2)"
   ]
  },
  {
   "cell_type": "code",
   "execution_count": 2,
   "metadata": {
    "execution": {
     "iopub.execute_input": "2024-05-12T13:17:27.501432Z",
     "iopub.status.busy": "2024-05-12T13:17:27.500705Z",
     "iopub.status.idle": "2024-05-12T13:17:27.524344Z",
     "shell.execute_reply": "2024-05-12T13:17:27.522363Z",
     "shell.execute_reply.started": "2024-05-12T13:17:27.501389Z"
    },
    "trusted": true
   },
   "outputs": [],
   "source": [
    "def encodeChromosome(ind):\n",
    "    chromosome = \"\"\n",
    "    for i in range(len(ind)):\n",
    "        encoded_part = encode(ind[i],decodeIndex[i])\n",
    "        chromosome += encoded_part\n",
    "    return chromosome\n",
    "\n",
    "def decodeChromosome(ind):\n",
    "    chromosome = []\n",
    "    startIndex = 0\n",
    "    endIndex = 0\n",
    "    for i in range(len(cumuDecodeIndex)):\n",
    "        if i == 0:\n",
    "            startIndex = 0\n",
    "        else:\n",
    "            startIndex = cumuDecodeIndex[i-1] \n",
    "        endIndex = cumuDecodeIndex[i]  \n",
    "\n",
    "        substring = ind[startIndex:endIndex]\n",
    "        chromosome.append(decode(substring))\n",
    "    return chromosome\n",
    "\n",
    "def slotsAvaible(c):\n",
    "    slotsUsed = []\n",
    "    for i in c:\n",
    "        d = decodeChromosome(i)\n",
    "        slotsUsed.append([d[5],d[6],d[7]])\n",
    "        slotsUsed.append([d[9],d[10],d[11]])\n",
    "    allslots = []\n",
    "    for d in range(NUM_DAYS):\n",
    "        for t in range(NUM_TIMESLOTS):\n",
    "            for r in range(NUM_ROOMS):\n",
    "                slot = [d, t, r]\n",
    "                if slot not in slotsUsed:\n",
    "                    allslots.append(slot)\n",
    "    return allslots\n",
    "    \n",
    "def createChromosome():\n",
    "    chromosome = []\n",
    "    for i in range(NUM_COURSES):\n",
    "        for j in range(NUM_SECTIONS):\n",
    "            freeSlots = slotsAvaible(chromosome)\n",
    "            free = [slot for slot in freeSlots if slot[0] < 3]\n",
    "            free = [slot for slot in free if slot[1] < 4]\n",
    "            selectedSlot = random.choice(free)\n",
    "            rtype = genNum(0,1)\n",
    "            time1 = selectedSlot[1]\n",
    "            room1 = selectedSlot[2]\n",
    "            time2 = time1\n",
    "            room2 = room1\n",
    "            day1 = selectedSlot[0]\n",
    "            day2 = selectedSlot[0]+2\n",
    "            chromosome.append(encodeChromosome([i,0,j,genNum(20,120),i,day1,time1,room1,rtype,day2,time2,room2,rtype]))\n",
    "            \n",
    "    for i in range(NUM_LABS):\n",
    "        for j in range(NUM_SECTIONS):\n",
    "            freeSlots = slotsAvaible(chromosome)\n",
    "            free = [slot for slot in freeSlots if slot[1] == 4]\n",
    "            selectedSlot = random.choice(free)\n",
    "            rtype = genNum(0,1)\n",
    "            day = selectedSlot[0]\n",
    "            time = selectedSlot[1]\n",
    "            room = selectedSlot[2]\n",
    "            chromosome.append(encodeChromosome([i,1,j,genNum(20,120),i,day,time,room,rtype,day,time+1,room,rtype]))\n",
    "    \n",
    "    return chromosome\n",
    "\n",
    "def generatePopulation(size):\n",
    "    population = []\n",
    "    for _ in range(size):\n",
    "        i = createChromosome()\n",
    "        population.append(i)\n",
    "    return population\n"
   ]
  },
  {
   "cell_type": "code",
   "execution_count": 3,
   "metadata": {
    "execution": {
     "iopub.execute_input": "2024-05-12T13:17:27.527009Z",
     "iopub.status.busy": "2024-05-12T13:17:27.526603Z",
     "iopub.status.idle": "2024-05-12T13:17:27.544687Z",
     "shell.execute_reply": "2024-05-12T13:17:27.543634Z",
     "shell.execute_reply.started": "2024-05-12T13:17:27.526977Z"
    },
    "trusted": true
   },
   "outputs": [],
   "source": [
    "def roomTimeCheck(List):\n",
    "    value = 0\n",
    "    for i in List:\n",
    "        for j in List:\n",
    "            if i[cumuDecodeIndex[4]:cumuDecodeIndex[8]] == j[cumuDecodeIndex[4]:cumuDecodeIndex[8]]:\n",
    "                value += 1\n",
    "            if i[cumuDecodeIndex[8]:cumuDecodeIndex[12]] == j[cumuDecodeIndex[8]:cumuDecodeIndex[12]]:\n",
    "                value += 1\n",
    "    #print(\"roomConfilct\",value)        \n",
    "    return value\n",
    "\n",
    "def professorConfilct(chromosome):\n",
    "    value = 0\n",
    "    \n",
    "    for p in range(NUM_PROFESSORS):\n",
    "        professorSlots = []\n",
    "        prof = encode(p,decodeIndex[4])\n",
    "        for i in chromosome:\n",
    "            if prof == i[cumuDecodeIndex[3]:cumuDecodeIndex[4]]:\n",
    "                professorSlots.append(i)\n",
    "        value += roomTimeCheck(professorSlots)\n",
    "        \n",
    "    #print(\"professorConfilct\",value)\n",
    "    return value\n",
    "\n",
    "def sameSectionConfilct(chromosome):\n",
    "    value = 0\n",
    "    #for i in chromosome:\n",
    "    #    if \n",
    "    return value\n",
    "\n",
    "def lectureGapConfilct(chromosome):\n",
    "    value = 0\n",
    "    for i in chromosome:\n",
    "        if i[cumuDecodeIndex[0]:cumuDecodeIndex[1]] == 0:\n",
    "            if i[cumuDecodeIndex[4]:cumuDecodeIndex[5]] == encode(int(decode(i[cumuDecodeIndex[8]:cumuDecodeIndex[9]])) - 1) or i[cumuDecodeIndex[4]:cumuDecodeIndex[5]] == i[cumuDecodeIndex[8]:cumuDecodeIndex[9]]:\n",
    "                value += 1\n",
    "    #print(\"lectureConfilct\",value)\n",
    "    return value\n",
    "# NUM_COURSES,1 ,NUM_SECTIONS, 120 ,NUM_PROFESSORS, NUM_DAYS, NUM_TIMESLOTS, NUM_ROOMS\n",
    "#[4, 5, 8, 19, 23, 26, 29, 32, 33, 36, 39, 42, 43]\n",
    "def labLectureConfilct(chromosome):\n",
    "    value = 0\n",
    "    for i in chromosome:\n",
    "        if i[cumuDecodeIndex[0]:cumuDecodeIndex[1]] == 1:\n",
    "            if i[cumuDecodeIndex[4]:cumuDecodeIndex[5]] != i[cumuDecodeIndex[8]:cumuDecodeIndex[9]]:\n",
    "                value += 1\n",
    "            elif i[cumuDecodeIndex[6]:cumuDecodeIndex[7]] != i[cumuDecodeIndex[10]:cumuDecodeIndex[11]]:\n",
    "                value += 1\n",
    "            elif i[cumuDecodeIndex[5]:cumuDecodeIndex[6]] != encode(int(decode(i[cumuDecodeIndex[9]:cumuDecodeIndex[10]])) - 1):\n",
    "                value += 1\n",
    "    #print(\"labConfilct\",value)\n",
    "    return value\n",
    "\n",
    "def calculateFitness(chromosome):\n",
    "    confilcts = 0\n",
    "    confilcts += professorConfilct(chromosome) # A professor should not be assigned two different lectures at the same time.\n",
    "    confilcts += sameSectionConfilct(chromosome) # The same section cannot be assigned to two different rooms at the same time.\n",
    "    confilcts += lectureGapConfilct(chromosome)  # Each course would have two lectures per week not on the same or adjacent days.\n",
    "    confilcts += labLectureConfilct(chromosome)  # Lab lectures should be conducted in two consecutive slots.\n",
    "    return -confilcts"
   ]
  },
  {
   "cell_type": "markdown",
   "metadata": {},
   "source": [
    "## Selection\n",
    "### Select two chromosomes from a population for crossover."
   ]
  },
  {
   "cell_type": "code",
   "execution_count": 4,
   "metadata": {
    "execution": {
     "iopub.execute_input": "2024-05-12T13:17:27.547571Z",
     "iopub.status.busy": "2024-05-12T13:17:27.547137Z",
     "iopub.status.idle": "2024-05-12T13:17:27.565918Z",
     "shell.execute_reply": "2024-05-12T13:17:27.564617Z",
     "shell.execute_reply.started": "2024-05-12T13:17:27.547539Z"
    },
    "trusted": true
   },
   "outputs": [],
   "source": [
    "def selectChromosomes(population):\n",
    "    fitness_values = []\n",
    "    for i in population:\n",
    "        f = calculateFitness(i)  # Assuming calculateFitness function calculates fitness values\n",
    "        fitness_values.append(f)\n",
    "    \n",
    "    m = max(fitness_values)\n",
    "    if m == 0:\n",
    "        return population[fitness_values.index(m)], []\n",
    "    fit = fitness_values\n",
    "    #print(sum(fit))\n",
    "    fitness_values = [-1*(1/i) for i in fitness_values]\n",
    "    #print(fit)\n",
    "    #print(fitness_values)\n",
    "    parent1 = random.choices(population, weights=fitness_values, k=1)[0]\n",
    "    parent2 = random.choices(population, weights=fitness_values, k=1)[0]\n",
    "    return parent1, parent2\n"
   ]
  },
  {
   "cell_type": "markdown",
   "metadata": {},
   "source": [
    "## CrossOver\n",
    "### It takes two parent chromosomes as input and randomly selects a crossover point."
   ]
  },
  {
   "cell_type": "code",
   "execution_count": 5,
   "metadata": {
    "execution": {
     "iopub.execute_input": "2024-05-12T13:17:27.568605Z",
     "iopub.status.busy": "2024-05-12T13:17:27.567408Z",
     "iopub.status.idle": "2024-05-12T13:17:27.580365Z",
     "shell.execute_reply": "2024-05-12T13:17:27.579045Z",
     "shell.execute_reply.started": "2024-05-12T13:17:27.568566Z"
    },
    "trusted": true
   },
   "outputs": [],
   "source": [
    "def crossover(parent1, parent2):\n",
    "    crossover_point = random.randint(0, len(parent1))\n",
    "    child1 = parent1[0:crossover_point] + parent2[crossover_point:]\n",
    "    child2 = parent2[0:crossover_point] + parent1[crossover_point:]\n",
    "\n",
    "    #print(\"Performed crossover between two chromosomes\",child1,child2)\n",
    "    return child1, child2"
   ]
  },
  {
   "cell_type": "markdown",
   "metadata": {},
   "source": [
    "## Mutation\n",
    "### performs a mutation on a chromosome"
   ]
  },
  {
   "cell_type": "code",
   "execution_count": 6,
   "metadata": {
    "execution": {
     "iopub.execute_input": "2024-05-12T13:17:27.582057Z",
     "iopub.status.busy": "2024-05-12T13:17:27.581718Z",
     "iopub.status.idle": "2024-05-12T13:17:27.594569Z",
     "shell.execute_reply": "2024-05-12T13:17:27.593072Z",
     "shell.execute_reply.started": "2024-05-12T13:17:27.582029Z"
    },
    "trusted": true
   },
   "outputs": [],
   "source": [
    "def mutate(chromosome):\n",
    "    mutation_point = random.randint(0, len(chromosome)-1)\n",
    "    while True:\n",
    "        chromo = (random.randint(0,5),random.randint(0,5))\n",
    "        if chromo not in chromosome:\n",
    "            break;\n",
    "\n",
    "    chromosome[mutation_point] = chromo\n",
    "    print(\"Performed mutation on a chromosome\")\n",
    "    return chromosome"
   ]
  },
  {
   "cell_type": "markdown",
   "metadata": {},
   "source": [
    "## Get Best Chromosomes\n",
    "### This function takes in a population of chromosomes and returns the best chromosome from the population."
   ]
  },
  {
   "cell_type": "code",
   "execution_count": 7,
   "metadata": {
    "execution": {
     "iopub.execute_input": "2024-05-12T13:17:27.596697Z",
     "iopub.status.busy": "2024-05-12T13:17:27.596223Z",
     "iopub.status.idle": "2024-05-12T13:17:27.607148Z",
     "shell.execute_reply": "2024-05-12T13:17:27.606137Z",
     "shell.execute_reply.started": "2024-05-12T13:17:27.596660Z"
    },
    "trusted": true
   },
   "outputs": [],
   "source": [
    "def get_best(population):\n",
    "    fitness_values = []\n",
    "    for chromosome in population:\n",
    "        fitness_values.append(calculateFitness(chromosome))\n",
    "\n",
    "    max_value = max(fitness_values)\n",
    "    max_index = fitness_values.index(max_value)\n",
    "    return population[max_index]"
   ]
  },
  {
   "cell_type": "code",
   "execution_count": 8,
   "metadata": {
    "execution": {
     "iopub.execute_input": "2024-05-12T13:17:27.610201Z",
     "iopub.status.busy": "2024-05-12T13:17:27.609793Z",
     "iopub.status.idle": "2024-05-12T13:17:27.626746Z",
     "shell.execute_reply": "2024-05-12T13:17:27.625385Z",
     "shell.execute_reply.started": "2024-05-12T13:17:27.610167Z"
    },
    "trusted": true
   },
   "outputs": [],
   "source": [
    "def printTimeTable(chromosome):\n",
    "    c = []\n",
    "    for i in chromosome:\n",
    "        ch = decodeChromosome(i)\n",
    "        c.append(ch)\n",
    "    \n",
    "    print(\"Timetable Format:\")\n",
    "    for d in range(len(DAYS)):\n",
    "        print(DAYS[d])\n",
    "        print(\"Rooms\\t\", end=\"\")\n",
    "        max_width = max(len(timeslot) for timeslot in TIMESLOTS) + 2\n",
    "        for timeslot in TIMESLOTS:\n",
    "            print(f\"{timeslot: <{max_width}}\", end=\"\")\n",
    "        print()\n",
    "        \n",
    "        for r in range(len(ROOMS_NAMES)):\n",
    "            print(ROOMS_NAMES[r], end=\"\\t\")\n",
    "            for t in range(NUM_TIMESLOTS):\n",
    "                found_course = False\n",
    "                for n in c:\n",
    "                    if (n[5] == d and n[6] == t and n[7] == r) or (n[9] == d and n[10] == t and n[11] == r):\n",
    "                        course_str = f\"{COURSE_NAMES[n[0]]}({SECTIONS[n[2]]})\"\n",
    "                        print(f\"{course_str: <{max_width}}\", end=\"\")\n",
    "                        found_course = True\n",
    "                        break\n",
    "                if not found_course:\n",
    "                    print(\"    \".ljust(max_width), end=\"\")\n",
    "            print()\n",
    "        print()"
   ]
  },
  {
   "cell_type": "code",
   "execution_count": 9,
   "metadata": {
    "execution": {
     "iopub.execute_input": "2024-05-12T13:17:27.628475Z",
     "iopub.status.busy": "2024-05-12T13:17:27.628112Z",
     "iopub.status.idle": "2024-05-12T13:17:36.676021Z",
     "shell.execute_reply": "2024-05-12T13:17:36.674560Z",
     "shell.execute_reply.started": "2024-05-12T13:17:27.628444Z"
    },
    "trusted": true
   },
   "outputs": [
    {
     "name": "stdout",
     "output_type": "stream",
     "text": [
      "Timetable Format:\n",
      "Monday\n",
      "Rooms\t8:30-9:50    10:00-11:20  11:30-12:50  1:00-2:20    2:30-3:50    4:00-5:15    \n",
      "C-301\t             CALCULAS(E)                            OS(E)        OS(E)        \n",
      "C-302\tAI(E)                     WEB(C)       OS(A)        IICT(A)      IICT(A)      \n",
      "C-303\tTBW(B)       Algo(B)                   PF(B)        ML(A)        ML(A)        \n",
      "C-304\tDB(D)        IICT(B)      TBW(E)       TBW(D)                                 \n",
      "C-401\tPROB(C)      ML(E)                                  OS(D)        OS(D)        \n",
      "C-402\t             PAKSTD(A)                 PF(A)        ML(C)        ML(C)        \n",
      "C-403\t                          OS(C)        ML(B)        OS(B)        OS(B)        \n",
      "C-404\tIICT(D)      ML(A)        AI(D)        ML(C)                                  \n",
      "\n",
      "Tuesday\n",
      "Rooms\t8:30-9:50    10:00-11:20  11:30-12:50  1:00-2:20    2:30-3:50    4:00-5:15    \n",
      "C-301\tPF(E)                                                                         \n",
      "C-302\tWEB(E)       CALCULAS(A)  WEB(A)                    PF(A)        PF(A)        \n",
      "C-303\tOS(E)                                               DB(C)        DB(C)        \n",
      "C-304\t             Algo(C)                   AI(C)        ML(D)        ML(D)        \n",
      "C-401\tPAKSTD(B)    Algo(E)      CALCULAS(C)  OS(B)                                  \n",
      "C-402\tIICT(E)      TBW(C)                    WEB(D)       PF(B)        PF(B)        \n",
      "C-403\tPROB(A)      DB(A)        PROB(D)                   PF(E)        PF(E)        \n",
      "C-404\tAlgo(A)      PF(D)        DB(B)        TBW(A)       IICT(C)      IICT(C)      \n",
      "\n",
      "Wednesday\n",
      "Rooms\t8:30-9:50    10:00-11:20  11:30-12:50  1:00-2:20    2:30-3:50    4:00-5:15    \n",
      "C-301\tPROB(E)      ML(D)        AI(B)                     PF(C)        PF(C)        \n",
      "C-302\tAI(E)        DB(E)        WEB(C)       OS(A)        DB(B)        DB(B)        \n",
      "C-303\tCALCULAS(B)  WEB(B)       AI(A)        PF(B)                                  \n",
      "C-304\tPF(C)        IICT(B)      OS(D)        TBW(D)                                 \n",
      "C-401\tPROB(C)      DB(C)        IICT(C)                                             \n",
      "C-402\tCALCULAS(D)  PROB(B)                   PF(A)        IICT(E)      IICT(E)      \n",
      "C-403\tAlgo(D)                   OS(C)        IICT(A)      IICT(B)      IICT(B)      \n",
      "C-404\tIICT(D)      ML(A)        AI(D)        ML(C)                                  \n",
      "\n",
      "Thursday\n",
      "Rooms\t8:30-9:50    10:00-11:20  11:30-12:50  1:00-2:20    2:30-3:50    4:00-5:15    \n",
      "C-301\tPF(E)                                               ML(E)        ML(E)        \n",
      "C-302\tWEB(E)       CALCULAS(A)  WEB(A)                                              \n",
      "C-303\tOS(E)                                               DB(E)        DB(E)        \n",
      "C-304\t             Algo(C)                   AI(C)                                  \n",
      "C-401\tPAKSTD(B)    Algo(E)      CALCULAS(C)  OS(B)        IICT(D)      IICT(D)      \n",
      "C-402\tIICT(E)      TBW(C)                    WEB(D)                                 \n",
      "C-403\tPROB(A)      DB(A)        PROB(D)                                             \n",
      "C-404\tAlgo(A)      PF(D)        DB(B)        TBW(A)                                 \n",
      "\n",
      "Friday\n",
      "Rooms\t8:30-9:50    10:00-11:20  11:30-12:50  1:00-2:20    2:30-3:50    4:00-5:15    \n",
      "C-301\tPROB(E)      ML(D)        AI(B)                                               \n",
      "C-302\t             DB(E)                                                            \n",
      "C-303\tCALCULAS(B)  WEB(B)       AI(A)                     ML(B)        ML(B)        \n",
      "C-304\tPF(C)                     OS(D)                     PF(D)        PF(D)        \n",
      "C-401\t             DB(C)        IICT(C)                   OS(A)        OS(A)        \n",
      "C-402\tCALCULAS(D)  PROB(B)                                OS(C)        OS(C)        \n",
      "C-403\tAlgo(D)                                IICT(A)      DB(A)        DB(A)        \n",
      "C-404\t                                                    DB(D)        DB(D)        \n",
      "\n"
     ]
    }
   ],
   "source": [
    "population_size = 20\n",
    "mutation_probability = 0\n",
    "generations = 100\n",
    "# generate a random population\n",
    "population = generatePopulation(population_size)\n",
    "#print(calculateFitness(population[0]))\n",
    "fitness = 10\n",
    "for _ in range(generations):\n",
    "    # select two chromosomes for crossover\n",
    "    parent1, parent2 = selectChromosomes(population)\n",
    "    \n",
    "    if len(parent2) == 0:\n",
    "        break\n",
    "    # perform crossover to generate two new chromosomes\n",
    "    child1, child2 = crossover(parent1, parent2)\n",
    "    \n",
    "    # perform mutation on the two new chromosomes\n",
    "    if random.uniform(0, 1) < mutation_probability:\n",
    "        child1 = mutate(child1)\n",
    "    if random.uniform(0, 1) < mutation_probability:\n",
    "        child2 = mutate(child2)\n",
    "    \n",
    "    # replace the old population with the new population\n",
    "    fitness_values = []\n",
    "    for chromosome in population:\n",
    "        fitness_values.append(calculateFitness(chromosome))\n",
    "    index = np.argmin(fitness_values)\n",
    "    population[index] = child1\n",
    "    index = np.argmin(fitness_values)\n",
    "    population[index] = child2\n",
    "    best = get_best(population)\n",
    "    fitness = calculateFitness(best)\n",
    "    \n",
    "\n",
    "best = get_best(population)\n",
    "#print(best)\n",
    "printTimeTable(best)"
   ]
  }
 ],
 "metadata": {
  "kaggle": {
   "accelerator": "none",
   "dataSources": [],
   "dockerImageVersionId": 30698,
   "isGpuEnabled": false,
   "isInternetEnabled": false,
   "language": "python",
   "sourceType": "notebook"
  },
  "kernelspec": {
   "display_name": "Python 3",
   "language": "python",
   "name": "python3"
  },
  "language_info": {
   "codemirror_mode": {
    "name": "ipython",
    "version": 3
   },
   "file_extension": ".py",
   "mimetype": "text/x-python",
   "name": "python",
   "nbconvert_exporter": "python",
   "pygments_lexer": "ipython3",
   "version": "3.10.13"
  }
 },
 "nbformat": 4,
 "nbformat_minor": 4
}
